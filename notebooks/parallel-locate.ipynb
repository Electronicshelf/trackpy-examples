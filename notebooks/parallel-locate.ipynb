{
 "metadata": {
  "name": ""
 },
 "nbformat": 3,
 "nbformat_minor": 0,
 "worksheets": [
  {
   "cells": [
    {
     "cell_type": "code",
     "collapsed": false,
     "input": [
      "from IPython.parallel import Client\n",
      "client = Client()\n",
      "view = client.load_balanced_view()"
     ],
     "language": "python",
     "metadata": {},
     "outputs": [],
     "prompt_number": 1
    },
    {
     "cell_type": "markdown",
     "metadata": {},
     "source": [
      "We can see that there are four cores available."
     ]
    },
    {
     "cell_type": "code",
     "collapsed": false,
     "input": [
      "client[:]"
     ],
     "language": "python",
     "metadata": {},
     "outputs": [
      {
       "metadata": {},
       "output_type": "pyout",
       "prompt_number": 2,
       "text": [
        "<DirectView [0, 1, 2, 3]>"
       ]
      }
     ],
     "prompt_number": 2
    },
    {
     "cell_type": "markdown",
     "metadata": {},
     "source": [
      "Use a little magic, ``%%px``, to import trackpy on all cores."
     ]
    },
    {
     "cell_type": "code",
     "collapsed": false,
     "input": [
      "%%px\n",
      "import trackpy as tp"
     ],
     "language": "python",
     "metadata": {},
     "outputs": [],
     "prompt_number": 3
    },
    {
     "cell_type": "markdown",
     "metadata": {},
     "source": [
      "Do the normal setup now, import trackpy normally and loading frames to analyze."
     ]
    },
    {
     "cell_type": "code",
     "collapsed": false,
     "input": [
      "import trackpy as tp\n",
      "\n",
      "def gray(image):\n",
      "    return image[:, :, 0]\n",
      "\n",
      "images = tp.ImageSequence('../sample_data/bulk_water/*.png', process_func=gray)"
     ],
     "language": "python",
     "metadata": {},
     "outputs": [],
     "prompt_number": 4
    },
    {
     "cell_type": "markdown",
     "metadata": {},
     "source": [
      "Define a function from ``locate`` with all the parameters specified, so the function's only argument is the image to be analyzed. We can map this function directly onto our collection of images. (This is a called \"currying\" a function, hence the choice of name.)"
     ]
    },
    {
     "cell_type": "code",
     "collapsed": false,
     "input": [
      "curried_locate = lambda image: tp.locate(image, 9, invert=True)"
     ],
     "language": "python",
     "metadata": {},
     "outputs": [],
     "prompt_number": 5
    },
    {
     "cell_type": "markdown",
     "metadata": {},
     "source": [
      "Compare the time it takes to locate features in the first ten images with and without parallelization."
     ]
    },
    {
     "cell_type": "code",
     "collapsed": false,
     "input": [
      "%%timeit\n",
      "features_normal = pd.concat(map(curried_locate, images[:10]))"
     ],
     "language": "python",
     "metadata": {},
     "outputs": [
      {
       "output_type": "stream",
       "stream": "stdout",
       "text": [
        "1 loops, best of 3: 3.59 s per loop"
       ]
      },
      {
       "output_type": "stream",
       "stream": "stdout",
       "text": [
        "\n"
       ]
      }
     ],
     "prompt_number": 6
    },
    {
     "cell_type": "code",
     "collapsed": false,
     "input": [
      "%%timeit\n",
      "results = view.map(curried_locate, images[:10])\n",
      "features_parallel = pd.concat(list(results))"
     ],
     "language": "python",
     "metadata": {},
     "outputs": [
      {
       "output_type": "stream",
       "stream": "stdout",
       "text": [
        "1 loops, best of 3: 1.91 s per loop\n"
       ]
      }
     ],
     "prompt_number": 7
    },
    {
     "cell_type": "markdown",
     "metadata": {},
     "source": [
      "Verify that the results match to high precision."
     ]
    },
    {
     "cell_type": "code",
     "collapsed": false,
     "input": [
      "from numpy.testing import assert_allclose\n",
      "# We can't check for exact equality because\n",
      "# the numbers are floating-point numbers.\n",
      "\n",
      "features_normal = pd.concat(map(curried_locate, images[:10]))\n",
      "\n",
      "results = view.map_async(curried_locate, images[:10])\n",
      "features_parallel = pd.concat(list(results))\n",
      "\n",
      "assert_allclose(features_normal.values, features_parallel.values)"
     ],
     "language": "python",
     "metadata": {},
     "outputs": [],
     "prompt_number": 8
    }
   ],
   "metadata": {}
  }
 ]
}