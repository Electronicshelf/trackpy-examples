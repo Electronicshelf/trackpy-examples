{
 "cells": [
  {
   "cell_type": "markdown",
   "metadata": {},
   "source": [
    "# Streaming: Processing Unlimited Frames On-Disk"
   ]
  },
  {
   "cell_type": "markdown",
   "metadata": {},
   "source": [
    "A key feature of trackpy is the ability to process an unlimited number of frames.\n",
    "\n",
    "For feature-finding, this is straightforward: a frame is loaded, features are located, the locations are saved the disk, and the memory is cleared for the next frame. For linking, the problem is more challenging, but trackpy handles all this complexity for you, using as little memory as possible throughout.\n",
    "\n",
    "When data sets become large, beginning-friendly file formats like CSV or Excel become impractical. We recommend using the HDF5 file format, which is trackpy can read and write out of the box. (HDF5 is [widely used](http://en.wikipedia.org/wiki/Hierarchical_Data_Format); you can be sure it will be around for many, many years to come.)\n",
    "\n",
    "If you have some other format in mind, see the end of this tutorial, where we explain how to extend trackpy's interface to support other formats.\n",
    "\n",
    "## Install PyTables\n",
    "\n",
    "You need pytables, which you can easily install using conda. (Type this command into a Terminal or Command Prompt.)\n",
    "\n",
    "    conda install pytables\n",
    "    \n",
    "## Locate Features, Streaming Results into an HDF5 File"
   ]
  },
  {
   "cell_type": "code",
   "execution_count": 1,
   "metadata": {
    "collapsed": false
   },
   "outputs": [],
   "source": [
    "import trackpy as tp\n",
    "import pims"
   ]
  },
  {
   "cell_type": "code",
   "execution_count": 2,
   "metadata": {
    "collapsed": false
   },
   "outputs": [],
   "source": [
    "def gray(image):\n",
    "    return image[:, :, 0]\n",
    "\n",
    "images = pims.ImageSequence('../sample_data/bulk_water/*.png', process_func=gray)\n",
    "images = images[:10]  # We'll take just the first 10 frames for demo purposes."
   ]
  },
  {
   "cell_type": "code",
   "execution_count": 3,
   "metadata": {
    "collapsed": false
   },
   "outputs": [],
   "source": [
    "# For this demo, we'll first remove the file if it already exists.\n",
    "!rm -f data.h5"
   ]
  },
  {
   "cell_type": "markdown",
   "metadata": {},
   "source": [
    "We can use `locate` inside a loop:"
   ]
  },
  {
   "cell_type": "code",
   "execution_count": 4,
   "metadata": {
    "collapsed": false
   },
   "outputs": [],
   "source": [
    "with tp.PandasHDFStore('data.h5') as s:  # This opens an HDF5 file. Data will be stored and retrieved by frame number.\n",
    "    for image in images:\n",
    "        features = tp.locate(image, 11, invert=True)  # Find the features in a given frame.\n",
    "        s.put(features)  # Save the features to the file before continuing to the next frame."
   ]
  },
  {
   "cell_type": "markdown",
   "metadata": {},
   "source": [
    "or, equivalently, we can use `batch`, which accepts the storage file as `output`."
   ]
  },
  {
   "cell_type": "code",
   "execution_count": 5,
   "metadata": {
    "collapsed": false
   },
   "outputs": [
    {
     "name": "stdout",
     "output_type": "stream",
     "text": [
      "Frame 9: 510 features\n"
     ]
    }
   ],
   "source": [
    "with tp.PandasHDFStore('data.h5') as s:\n",
    "    tp.batch(images, 11, invert=True, output=s)"
   ]
  },
  {
   "cell_type": "markdown",
   "metadata": {},
   "source": [
    "We can get the data for a given frame:"
   ]
  },
  {
   "cell_type": "code",
   "execution_count": 6,
   "metadata": {
    "collapsed": false
   },
   "outputs": [
    {
     "data": {
      "text/html": [
       "<div>\n",
       "<table border=\"1\" class=\"dataframe\">\n",
       "  <thead>\n",
       "    <tr style=\"text-align: right;\">\n",
       "      <th></th>\n",
       "      <th>x</th>\n",
       "      <th>y</th>\n",
       "      <th>mass</th>\n",
       "      <th>size</th>\n",
       "      <th>ecc</th>\n",
       "      <th>signal</th>\n",
       "      <th>raw_mass</th>\n",
       "      <th>ep</th>\n",
       "      <th>frame</th>\n",
       "    </tr>\n",
       "  </thead>\n",
       "  <tbody>\n",
       "    <tr>\n",
       "      <th>0</th>\n",
       "      <td>295.886941</td>\n",
       "      <td>5.624598</td>\n",
       "      <td>372.183679</td>\n",
       "      <td>2.580235</td>\n",
       "      <td>0.189920</td>\n",
       "      <td>17.396842</td>\n",
       "      <td>8915</td>\n",
       "      <td>0.108849</td>\n",
       "      <td>2</td>\n",
       "    </tr>\n",
       "    <tr>\n",
       "      <th>1</th>\n",
       "      <td>68.203651</td>\n",
       "      <td>6.471969</td>\n",
       "      <td>416.980545</td>\n",
       "      <td>2.888723</td>\n",
       "      <td>0.088487</td>\n",
       "      <td>13.265092</td>\n",
       "      <td>9267</td>\n",
       "      <td>0.069054</td>\n",
       "      <td>2</td>\n",
       "    </tr>\n",
       "    <tr>\n",
       "      <th>2</th>\n",
       "      <td>336.888818</td>\n",
       "      <td>6.445367</td>\n",
       "      <td>340.325712</td>\n",
       "      <td>2.565562</td>\n",
       "      <td>0.028504</td>\n",
       "      <td>16.418269</td>\n",
       "      <td>8815</td>\n",
       "      <td>0.130158</td>\n",
       "      <td>2</td>\n",
       "    </tr>\n",
       "    <tr>\n",
       "      <th>3</th>\n",
       "      <td>432.423210</td>\n",
       "      <td>6.799269</td>\n",
       "      <td>564.962429</td>\n",
       "      <td>3.048429</td>\n",
       "      <td>0.302762</td>\n",
       "      <td>17.614302</td>\n",
       "      <td>9131</td>\n",
       "      <td>0.080412</td>\n",
       "      <td>2</td>\n",
       "    </tr>\n",
       "    <tr>\n",
       "      <th>4</th>\n",
       "      <td>460.570088</td>\n",
       "      <td>7.785952</td>\n",
       "      <td>359.136047</td>\n",
       "      <td>2.924729</td>\n",
       "      <td>0.124871</td>\n",
       "      <td>12.503980</td>\n",
       "      <td>8907</td>\n",
       "      <td>0.110293</td>\n",
       "      <td>2</td>\n",
       "    </tr>\n",
       "  </tbody>\n",
       "</table>\n",
       "</div>"
      ],
      "text/plain": [
       "            x         y        mass      size       ecc     signal  raw_mass  \\\n",
       "0  295.886941  5.624598  372.183679  2.580235  0.189920  17.396842      8915   \n",
       "1   68.203651  6.471969  416.980545  2.888723  0.088487  13.265092      9267   \n",
       "2  336.888818  6.445367  340.325712  2.565562  0.028504  16.418269      8815   \n",
       "3  432.423210  6.799269  564.962429  3.048429  0.302762  17.614302      9131   \n",
       "4  460.570088  7.785952  359.136047  2.924729  0.124871  12.503980      8907   \n",
       "\n",
       "         ep  frame  \n",
       "0  0.108849      2  \n",
       "1  0.069054      2  \n",
       "2  0.130158      2  \n",
       "3  0.080412      2  \n",
       "4  0.110293      2  "
      ]
     },
     "execution_count": 6,
     "metadata": {},
     "output_type": "execute_result"
    }
   ],
   "source": [
    "with tp.PandasHDFStore('data.h5') as s:\n",
    "    frame_2_results = s.get(2)\n",
    "    \n",
    "frame_2_results.head()  # Display the first few rows."
   ]
  },
  {
   "cell_type": "markdown",
   "metadata": {},
   "source": [
    "Or dump all the data, if your machine has enough memory to hold it:"
   ]
  },
  {
   "cell_type": "code",
   "execution_count": 7,
   "metadata": {
    "collapsed": false
   },
   "outputs": [
    {
     "data": {
      "text/html": [
       "<div>\n",
       "<table border=\"1\" class=\"dataframe\">\n",
       "  <thead>\n",
       "    <tr style=\"text-align: right;\">\n",
       "      <th></th>\n",
       "      <th>x</th>\n",
       "      <th>y</th>\n",
       "      <th>mass</th>\n",
       "      <th>size</th>\n",
       "      <th>ecc</th>\n",
       "      <th>signal</th>\n",
       "      <th>raw_mass</th>\n",
       "      <th>ep</th>\n",
       "      <th>frame</th>\n",
       "    </tr>\n",
       "  </thead>\n",
       "  <tbody>\n",
       "    <tr>\n",
       "      <th>0</th>\n",
       "      <td>103.430478</td>\n",
       "      <td>5.247191</td>\n",
       "      <td>308.202079</td>\n",
       "      <td>2.738100</td>\n",
       "      <td>0.039502</td>\n",
       "      <td>11.795655</td>\n",
       "      <td>8983</td>\n",
       "      <td>0.098772</td>\n",
       "      <td>0</td>\n",
       "    </tr>\n",
       "    <tr>\n",
       "      <th>1</th>\n",
       "      <td>294.831759</td>\n",
       "      <td>5.692167</td>\n",
       "      <td>355.060049</td>\n",
       "      <td>2.574877</td>\n",
       "      <td>0.162698</td>\n",
       "      <td>17.422941</td>\n",
       "      <td>8917</td>\n",
       "      <td>0.109846</td>\n",
       "      <td>0</td>\n",
       "    </tr>\n",
       "    <tr>\n",
       "      <th>2</th>\n",
       "      <td>311.069767</td>\n",
       "      <td>7.223679</td>\n",
       "      <td>255.933257</td>\n",
       "      <td>3.321975</td>\n",
       "      <td>0.007893</td>\n",
       "      <td>5.627285</td>\n",
       "      <td>8644</td>\n",
       "      <td>0.204852</td>\n",
       "      <td>0</td>\n",
       "    </tr>\n",
       "    <tr>\n",
       "      <th>3</th>\n",
       "      <td>431.496378</td>\n",
       "      <td>7.273025</td>\n",
       "      <td>627.442294</td>\n",
       "      <td>2.872567</td>\n",
       "      <td>0.273653</td>\n",
       "      <td>19.695498</td>\n",
       "      <td>9199</td>\n",
       "      <td>0.074267</td>\n",
       "      <td>0</td>\n",
       "    </tr>\n",
       "    <tr>\n",
       "      <th>4</th>\n",
       "      <td>36.061983</td>\n",
       "      <td>8.255091</td>\n",
       "      <td>483.621872</td>\n",
       "      <td>2.973328</td>\n",
       "      <td>0.123753</td>\n",
       "      <td>13.635345</td>\n",
       "      <td>9531</td>\n",
       "      <td>0.053765</td>\n",
       "      <td>0</td>\n",
       "    </tr>\n",
       "  </tbody>\n",
       "</table>\n",
       "</div>"
      ],
      "text/plain": [
       "            x         y        mass      size       ecc     signal  raw_mass  \\\n",
       "0  103.430478  5.247191  308.202079  2.738100  0.039502  11.795655      8983   \n",
       "1  294.831759  5.692167  355.060049  2.574877  0.162698  17.422941      8917   \n",
       "2  311.069767  7.223679  255.933257  3.321975  0.007893   5.627285      8644   \n",
       "3  431.496378  7.273025  627.442294  2.872567  0.273653  19.695498      9199   \n",
       "4   36.061983  8.255091  483.621872  2.973328  0.123753  13.635345      9531   \n",
       "\n",
       "         ep  frame  \n",
       "0  0.098772      0  \n",
       "1  0.109846      0  \n",
       "2  0.204852      0  \n",
       "3  0.074267      0  \n",
       "4  0.053765      0  "
      ]
     },
     "execution_count": 7,
     "metadata": {},
     "output_type": "execute_result"
    }
   ],
   "source": [
    "with tp.PandasHDFStore('data.h5') as s:\n",
    "    all_results = s.dump()\n",
    "    \n",
    "all_results.head()  # Display the first few rows."
   ]
  },
  {
   "cell_type": "markdown",
   "metadata": {},
   "source": [
    "You can dump the first N frames using `s.dump(N)`.\n",
    "\n",
    "## Link Trajectories, Streaming From and Updating the HDF5 File"
   ]
  },
  {
   "cell_type": "code",
   "execution_count": 8,
   "metadata": {
    "collapsed": false
   },
   "outputs": [
    {
     "name": "stdout",
     "output_type": "stream",
     "text": [
      "Frame 9: 510 trajectories present\n"
     ]
    }
   ],
   "source": [
    "with tp.PandasHDFStore('data.h5') as s:\n",
    "    for linked in tp.link_df_iter(s, 3, neighbor_strategy='KDTree'):\n",
    "        s.put(linked)"
   ]
  },
  {
   "cell_type": "markdown",
   "metadata": {},
   "source": [
    "The original data is overwritten."
   ]
  },
  {
   "cell_type": "code",
   "execution_count": 9,
   "metadata": {
    "collapsed": false
   },
   "outputs": [
    {
     "data": {
      "text/html": [
       "<div>\n",
       "<table border=\"1\" class=\"dataframe\">\n",
       "  <thead>\n",
       "    <tr style=\"text-align: right;\">\n",
       "      <th></th>\n",
       "      <th>x</th>\n",
       "      <th>y</th>\n",
       "      <th>mass</th>\n",
       "      <th>size</th>\n",
       "      <th>ecc</th>\n",
       "      <th>signal</th>\n",
       "      <th>raw_mass</th>\n",
       "      <th>ep</th>\n",
       "      <th>frame</th>\n",
       "      <th>particle</th>\n",
       "    </tr>\n",
       "  </thead>\n",
       "  <tbody>\n",
       "    <tr>\n",
       "      <th>0</th>\n",
       "      <td>295.886941</td>\n",
       "      <td>5.624598</td>\n",
       "      <td>372.183679</td>\n",
       "      <td>2.580235</td>\n",
       "      <td>0.189920</td>\n",
       "      <td>17.396842</td>\n",
       "      <td>8915</td>\n",
       "      <td>0.108849</td>\n",
       "      <td>2</td>\n",
       "      <td>1</td>\n",
       "    </tr>\n",
       "    <tr>\n",
       "      <th>1</th>\n",
       "      <td>432.423210</td>\n",
       "      <td>6.799269</td>\n",
       "      <td>564.962429</td>\n",
       "      <td>3.048429</td>\n",
       "      <td>0.302762</td>\n",
       "      <td>17.614302</td>\n",
       "      <td>9131</td>\n",
       "      <td>0.080412</td>\n",
       "      <td>2</td>\n",
       "      <td>3</td>\n",
       "    </tr>\n",
       "    <tr>\n",
       "      <th>2</th>\n",
       "      <td>36.560049</td>\n",
       "      <td>8.409618</td>\n",
       "      <td>440.901203</td>\n",
       "      <td>3.004805</td>\n",
       "      <td>0.132634</td>\n",
       "      <td>12.938901</td>\n",
       "      <td>9508</td>\n",
       "      <td>0.055229</td>\n",
       "      <td>2</td>\n",
       "      <td>4</td>\n",
       "    </tr>\n",
       "    <tr>\n",
       "      <th>3</th>\n",
       "      <td>68.203651</td>\n",
       "      <td>6.471969</td>\n",
       "      <td>416.980545</td>\n",
       "      <td>2.888723</td>\n",
       "      <td>0.088487</td>\n",
       "      <td>13.265092</td>\n",
       "      <td>9267</td>\n",
       "      <td>0.069054</td>\n",
       "      <td>2</td>\n",
       "      <td>5</td>\n",
       "    </tr>\n",
       "    <tr>\n",
       "      <th>4</th>\n",
       "      <td>629.016761</td>\n",
       "      <td>7.998041</td>\n",
       "      <td>499.506812</td>\n",
       "      <td>3.298593</td>\n",
       "      <td>0.183847</td>\n",
       "      <td>9.350802</td>\n",
       "      <td>9374</td>\n",
       "      <td>0.062147</td>\n",
       "      <td>2</td>\n",
       "      <td>7</td>\n",
       "    </tr>\n",
       "  </tbody>\n",
       "</table>\n",
       "</div>"
      ],
      "text/plain": [
       "            x         y        mass      size       ecc     signal  raw_mass  \\\n",
       "0  295.886941  5.624598  372.183679  2.580235  0.189920  17.396842      8915   \n",
       "1  432.423210  6.799269  564.962429  3.048429  0.302762  17.614302      9131   \n",
       "2   36.560049  8.409618  440.901203  3.004805  0.132634  12.938901      9508   \n",
       "3   68.203651  6.471969  416.980545  2.888723  0.088487  13.265092      9267   \n",
       "4  629.016761  7.998041  499.506812  3.298593  0.183847   9.350802      9374   \n",
       "\n",
       "         ep  frame  particle  \n",
       "0  0.108849      2         1  \n",
       "1  0.080412      2         3  \n",
       "2  0.055229      2         4  \n",
       "3  0.069054      2         5  \n",
       "4  0.062147      2         7  "
      ]
     },
     "execution_count": 9,
     "metadata": {},
     "output_type": "execute_result"
    }
   ],
   "source": [
    "with tp.PandasHDFStore('data.h5') as s:\n",
    "    frame_2_results = s.get(2)\n",
    "    \n",
    "frame_2_results.head()  # Display the first few rows."
   ]
  },
  {
   "cell_type": "markdown",
   "metadata": {},
   "source": [
    "## Framewise Data Interfaces\n",
    "\n",
    "### Built-in interfaces\n",
    "\n",
    "There are three different interfaces. You can use them interchangeably. They offer different performance advantages.\n",
    "\n",
    "* `PandasHDFStore` -- fastest for a small (~100) number of frames\n",
    "* `PandasHDFStoreBig` -- fastest for a medium or large number of frames\n",
    "* `PandasHDFStoreSingleNode` -- optimizes HDF queries that access multiple frames (advanced)\n",
    "\n",
    "### Writing your own interface\n",
    "\n",
    "Trackpy implements a generic interface that could be used to store and retrieve particle tracking data in any file format. We hope that it can make it easier for researchers who use different file formats to exchange data. Any in-house format could be accessed using the same simple interface demonstrated above.\n",
    "\n",
    "At present, the interface is implemented only for HDF5 files. To extend it to any format, write a class subclassing `trackpy.FramewiseData`. This custom class must implement the methods `put`, `get`, `close`, and `__iter__` and the properties `max_frame` and `t_column`. Refer to the built-in classes in [framewise_data.py](https://github.com/soft-matter/trackpy/blob/master/trackpy/framewise_data.py) for examples to work from."
   ]
  },
  {
   "cell_type": "code",
   "execution_count": null,
   "metadata": {
    "collapsed": true
   },
   "outputs": [],
   "source": []
  }
 ],
 "metadata": {
  "kernelspec": {
   "display_name": "Python 3",
   "language": "python",
   "name": "python3"
  },
  "language_info": {
   "codemirror_mode": {
    "name": "ipython",
    "version": 3
   },
   "file_extension": ".py",
   "mimetype": "text/x-python",
   "name": "python",
   "nbconvert_exporter": "python",
   "pygments_lexer": "ipython3",
   "version": "3.4.3"
  }
 },
 "nbformat": 4,
 "nbformat_minor": 0
}
