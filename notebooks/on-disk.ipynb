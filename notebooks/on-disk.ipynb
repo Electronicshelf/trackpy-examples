{
 "metadata": {
  "language_info": {
   "codemirror_mode": {
    "name": "ipython",
    "version": 2
   },
   "mimetype": "text/x-python",
   "name": "python",
   "pygments_lexer": "ipython2"
  },
  "name": "",
  "signature": "sha256:2a69467b39a0b86affce8dd8e164ee154021713fee678bd9e7efca824a5fd5e5"
 },
 "nbformat": 3,
 "nbformat_minor": 0,
 "worksheets": [
  {
   "cells": [
    {
     "cell_type": "heading",
     "level": 1,
     "metadata": {},
     "source": [
      "Streaming: Processing Unlimited Frames On-Disk"
     ]
    },
    {
     "cell_type": "markdown",
     "metadata": {},
     "source": [
      "A key feature of trackpy is the ability to process an unlimited number of frames.\n",
      "\n",
      "For feature-finding, this is straightforward: a frame is loaded, features are located, the locations are saved the disk, and the memory is cleared for the next frame. For linking, the problem is more challenging, but trackpy handles all this complexity for you, using as little memory as possible throughout.\n",
      "\n",
      "When data sets become large, beginning-friendly file formats like CSV or Excel become impractical. We recommend using the HDF5 file format, which is trackpy can read and write out of the box. (HDF5 is [widely used](http://en.wikipedia.org/wiki/Hierarchical_Data_Format); you can be sure it will be around for many, many years to come.)\n",
      "\n",
      "If you have some other format in mind, see the end of this tutorial, where we explain how to extend trackpy's interface to support other formats.\n",
      "\n",
      "## Install PyTables\n",
      "\n",
      "You need pytables, which you can easily install using conda. (Type this command into a Terminal or Command Prompt.)\n",
      "\n",
      "    conda install pytables\n",
      "    \n",
      "## Locate Features, Streaming Results into an HDF5 File"
     ]
    },
    {
     "cell_type": "code",
     "collapsed": false,
     "input": [
      "import trackpy as tp"
     ],
     "language": "python",
     "metadata": {},
     "outputs": [],
     "prompt_number": 1
    },
    {
     "cell_type": "code",
     "collapsed": false,
     "input": [
      "def gray(image):\n",
      "    return image[:, :, 0]\n",
      "\n",
      "images = tp.ImageSequence('../sample_data/bulk_water/*.png', process_func=gray)\n",
      "images = images[:10]  # We'll take just the first 10 frames for demo purposes."
     ],
     "language": "python",
     "metadata": {},
     "outputs": [],
     "prompt_number": 2
    },
    {
     "cell_type": "code",
     "collapsed": false,
     "input": [
      "# For this demo, we'll first remove the file if it already exists.\n",
      "!rm -f data.h5"
     ],
     "language": "python",
     "metadata": {},
     "outputs": [],
     "prompt_number": 3
    },
    {
     "cell_type": "markdown",
     "metadata": {},
     "source": [
      "We can use `locate` inside a loop:"
     ]
    },
    {
     "cell_type": "code",
     "collapsed": false,
     "input": [
      "with tp.PandasHDFStore('data.h5') as s:  # This opens an HDF5 file. Data will be stored and retrieved by frame number.\n",
      "    for image in images:\n",
      "        features = tp.locate(image, 11, invert=True)  # Find the features in a given frame.\n",
      "        s.put(features)  # Save the features to the file before continuing to the next frame."
     ],
     "language": "python",
     "metadata": {},
     "outputs": [
      {
       "output_type": "stream",
       "stream": "stdout",
       "text": [
        "Note: FFTW is configuring itself. This will take several seconds, but subsequent calls will run *much* faster.\n"
       ]
      }
     ],
     "prompt_number": 4
    },
    {
     "cell_type": "markdown",
     "metadata": {},
     "source": [
      "or, equivalently, we can use `batch`, which accepts the storage file as `output`."
     ]
    },
    {
     "cell_type": "code",
     "collapsed": false,
     "input": [
      "with tp.PandasHDFStore('data.h5') as s:\n",
      "    tp.batch(images, 11, invert=True, output=s)"
     ],
     "language": "python",
     "metadata": {},
     "outputs": [],
     "prompt_number": 5
    },
    {
     "cell_type": "markdown",
     "metadata": {},
     "source": [
      "We can get the data for a given frame:"
     ]
    },
    {
     "cell_type": "code",
     "collapsed": false,
     "input": [
      "with tp.PandasHDFStore('data.h5') as s:\n",
      "    frame_2_results = s.get(2)\n",
      "    \n",
      "frame_2_results.head()  # Display the first few rows."
     ],
     "language": "python",
     "metadata": {},
     "outputs": [
      {
       "html": [
        "<div style=\"max-height:1000px;max-width:1500px;overflow:auto;\">\n",
        "<table border=\"1\" class=\"dataframe\">\n",
        "  <thead>\n",
        "    <tr style=\"text-align: right;\">\n",
        "      <th></th>\n",
        "      <th>x</th>\n",
        "      <th>y</th>\n",
        "      <th>mass</th>\n",
        "      <th>size</th>\n",
        "      <th>ecc</th>\n",
        "      <th>signal</th>\n",
        "      <th>ep</th>\n",
        "      <th>frame</th>\n",
        "    </tr>\n",
        "  </thead>\n",
        "  <tbody>\n",
        "    <tr>\n",
        "      <th>0</th>\n",
        "      <td> 296.226203</td>\n",
        "      <td> 5.611765</td>\n",
        "      <td> 3740</td>\n",
        "      <td> 2.674198</td>\n",
        "      <td> 0.206035</td>\n",
        "      <td>  28.527147</td>\n",
        "      <td> 0.129315</td>\n",
        "      <td> 2</td>\n",
        "    </tr>\n",
        "    <tr>\n",
        "      <th>1</th>\n",
        "      <td>  68.202966</td>\n",
        "      <td> 6.464481</td>\n",
        "      <td> 3843</td>\n",
        "      <td> 2.893729</td>\n",
        "      <td> 0.087947</td>\n",
        "      <td>-102.472853</td>\n",
        "      <td>-0.031075</td>\n",
        "      <td> 2</td>\n",
        "    </tr>\n",
        "    <tr>\n",
        "      <th>2</th>\n",
        "      <td> 274.787286</td>\n",
        "      <td> 7.891198</td>\n",
        "      <td> 2454</td>\n",
        "      <td> 2.970172</td>\n",
        "      <td> 0.251374</td>\n",
        "      <td>-102.472853</td>\n",
        "      <td>-0.029638</td>\n",
        "      <td> 2</td>\n",
        "    </tr>\n",
        "    <tr>\n",
        "      <th>3</th>\n",
        "      <td> 336.889137</td>\n",
        "      <td> 6.445048</td>\n",
        "      <td> 3130</td>\n",
        "      <td> 2.565811</td>\n",
        "      <td> 0.028418</td>\n",
        "      <td>  35.527147</td>\n",
        "      <td> 0.112379</td>\n",
        "      <td> 2</td>\n",
        "    </tr>\n",
        "    <tr>\n",
        "      <th>4</th>\n",
        "      <td> 431.797288</td>\n",
        "      <td> 6.918457</td>\n",
        "      <td> 5678</td>\n",
        "      <td> 3.044058</td>\n",
        "      <td> 0.385238</td>\n",
        "      <td>  29.527147</td>\n",
        "      <td> 0.098436</td>\n",
        "      <td> 2</td>\n",
        "    </tr>\n",
        "  </tbody>\n",
        "</table>\n",
        "</div>"
       ],
       "metadata": {},
       "output_type": "pyout",
       "prompt_number": 6,
       "text": [
        "            x         y  mass      size       ecc      signal        ep  frame\n",
        "0  296.226203  5.611765  3740  2.674198  0.206035   28.527147  0.129315      2\n",
        "1   68.202966  6.464481  3843  2.893729  0.087947 -102.472853 -0.031075      2\n",
        "2  274.787286  7.891198  2454  2.970172  0.251374 -102.472853 -0.029638      2\n",
        "3  336.889137  6.445048  3130  2.565811  0.028418   35.527147  0.112379      2\n",
        "4  431.797288  6.918457  5678  3.044058  0.385238   29.527147  0.098436      2"
       ]
      }
     ],
     "prompt_number": 6
    },
    {
     "cell_type": "markdown",
     "metadata": {},
     "source": [
      "Or dump all the data, if your machine has enough memory to hold it:"
     ]
    },
    {
     "cell_type": "code",
     "collapsed": false,
     "input": [
      "with tp.PandasHDFStore('data.h5') as s:\n",
      "    all_results = s.dump()\n",
      "    \n",
      "all_results.head()  # Display the first few rows."
     ],
     "language": "python",
     "metadata": {},
     "outputs": [
      {
       "html": [
        "<div style=\"max-height:1000px;max-width:1500px;overflow:auto;\">\n",
        "<table border=\"1\" class=\"dataframe\">\n",
        "  <thead>\n",
        "    <tr style=\"text-align: right;\">\n",
        "      <th></th>\n",
        "      <th>x</th>\n",
        "      <th>y</th>\n",
        "      <th>mass</th>\n",
        "      <th>size</th>\n",
        "      <th>ecc</th>\n",
        "      <th>signal</th>\n",
        "      <th>ep</th>\n",
        "      <th>frame</th>\n",
        "    </tr>\n",
        "  </thead>\n",
        "  <tbody>\n",
        "    <tr>\n",
        "      <th>0</th>\n",
        "      <td> 103.419519</td>\n",
        "      <td> 5.113182</td>\n",
        "      <td> 2951</td>\n",
        "      <td> 2.795831</td>\n",
        "      <td> 0.040059</td>\n",
        "      <td>-82.673458</td>\n",
        "      <td>-0.040060</td>\n",
        "      <td> 0</td>\n",
        "    </tr>\n",
        "    <tr>\n",
        "      <th>1</th>\n",
        "      <td> 295.118161</td>\n",
        "      <td> 5.631698</td>\n",
        "      <td> 3546</td>\n",
        "      <td> 2.665027</td>\n",
        "      <td> 0.161466</td>\n",
        "      <td> 44.326542</td>\n",
        "      <td> 0.081763</td>\n",
        "      <td> 0</td>\n",
        "    </tr>\n",
        "    <tr>\n",
        "      <th>2</th>\n",
        "      <td> 310.446229</td>\n",
        "      <td> 7.141150</td>\n",
        "      <td> 2678</td>\n",
        "      <td> 3.370511</td>\n",
        "      <td> 0.019122</td>\n",
        "      <td>-81.673458</td>\n",
        "      <td>-0.029181</td>\n",
        "      <td> 0</td>\n",
        "    </tr>\n",
        "    <tr>\n",
        "      <th>3</th>\n",
        "      <td> 431.496378</td>\n",
        "      <td> 7.273025</td>\n",
        "      <td> 5798</td>\n",
        "      <td> 2.872567</td>\n",
        "      <td> 0.273653</td>\n",
        "      <td> 26.326542</td>\n",
        "      <td> 0.119659</td>\n",
        "      <td> 0</td>\n",
        "    </tr>\n",
        "    <tr>\n",
        "      <th>4</th>\n",
        "      <td>  36.061983</td>\n",
        "      <td> 8.255091</td>\n",
        "      <td> 4469</td>\n",
        "      <td> 2.973328</td>\n",
        "      <td> 0.123753</td>\n",
        "      <td>-87.673458</td>\n",
        "      <td>-0.033747</td>\n",
        "      <td> 0</td>\n",
        "    </tr>\n",
        "  </tbody>\n",
        "</table>\n",
        "</div>"
       ],
       "metadata": {},
       "output_type": "pyout",
       "prompt_number": 7,
       "text": [
        "            x         y  mass      size       ecc     signal        ep  frame\n",
        "0  103.419519  5.113182  2951  2.795831  0.040059 -82.673458 -0.040060      0\n",
        "1  295.118161  5.631698  3546  2.665027  0.161466  44.326542  0.081763      0\n",
        "2  310.446229  7.141150  2678  3.370511  0.019122 -81.673458 -0.029181      0\n",
        "3  431.496378  7.273025  5798  2.872567  0.273653  26.326542  0.119659      0\n",
        "4   36.061983  8.255091  4469  2.973328  0.123753 -87.673458 -0.033747      0"
       ]
      }
     ],
     "prompt_number": 7
    },
    {
     "cell_type": "markdown",
     "metadata": {},
     "source": [
      "You can dump the first N frames using `s.dump(N)`.\n",
      "\n",
      "## Link Trajectories, Streaming From and Updating the HDF5 File"
     ]
    },
    {
     "cell_type": "code",
     "collapsed": false,
     "input": [
      "with tp.PandasHDFStore('data.h5') as s:\n",
      "    for linked in tp.link_df_iter(s, 3, neighbor_strategy='KDTree'):\n",
      "        s.put(linked)"
     ],
     "language": "python",
     "metadata": {},
     "outputs": [
      {
       "output_type": "stream",
       "stream": "stdout",
       "text": [
        "Frame 9: 516 trajectories present\n"
       ]
      }
     ],
     "prompt_number": 8
    },
    {
     "cell_type": "markdown",
     "metadata": {},
     "source": [
      "The original data is overwritten."
     ]
    },
    {
     "cell_type": "code",
     "collapsed": false,
     "input": [
      "with tp.PandasHDFStore('data.h5') as s:\n",
      "    frame_2_results = s.get(2)\n",
      "    \n",
      "frame_2_results.head()  # Display the first few rows."
     ],
     "language": "python",
     "metadata": {},
     "outputs": [
      {
       "html": [
        "<div style=\"max-height:1000px;max-width:1500px;overflow:auto;\">\n",
        "<table border=\"1\" class=\"dataframe\">\n",
        "  <thead>\n",
        "    <tr style=\"text-align: right;\">\n",
        "      <th></th>\n",
        "      <th>x</th>\n",
        "      <th>y</th>\n",
        "      <th>mass</th>\n",
        "      <th>size</th>\n",
        "      <th>ecc</th>\n",
        "      <th>signal</th>\n",
        "      <th>ep</th>\n",
        "      <th>frame</th>\n",
        "      <th>particle</th>\n",
        "    </tr>\n",
        "  </thead>\n",
        "  <tbody>\n",
        "    <tr>\n",
        "      <th>0</th>\n",
        "      <td> 453.934194</td>\n",
        "      <td>  86.551661</td>\n",
        "      <td> 1626</td>\n",
        "      <td> 2.604283</td>\n",
        "      <td> 0.052431</td>\n",
        "      <td>-102.472853</td>\n",
        "      <td>-0.037864</td>\n",
        "      <td> 2</td>\n",
        "      <td> 0</td>\n",
        "    </tr>\n",
        "    <tr>\n",
        "      <th>1</th>\n",
        "      <td> 520.608638</td>\n",
        "      <td> 273.942501</td>\n",
        "      <td> 3774</td>\n",
        "      <td> 2.462114</td>\n",
        "      <td> 0.096123</td>\n",
        "      <td>  40.527147</td>\n",
        "      <td> 0.106703</td>\n",
        "      <td> 2</td>\n",
        "      <td> 2</td>\n",
        "    </tr>\n",
        "    <tr>\n",
        "      <th>2</th>\n",
        "      <td> 191.513007</td>\n",
        "      <td>  47.924380</td>\n",
        "      <td> 3306</td>\n",
        "      <td> 2.617476</td>\n",
        "      <td> 0.070219</td>\n",
        "      <td>  33.527147</td>\n",
        "      <td> 0.114615</td>\n",
        "      <td> 2</td>\n",
        "      <td> 5</td>\n",
        "    </tr>\n",
        "    <tr>\n",
        "      <th>3</th>\n",
        "      <td> 603.713694</td>\n",
        "      <td>  92.242960</td>\n",
        "      <td> 3622</td>\n",
        "      <td> 2.986025</td>\n",
        "      <td> 0.039404</td>\n",
        "      <td> -71.472853</td>\n",
        "      <td>-0.042088</td>\n",
        "      <td> 2</td>\n",
        "      <td> 6</td>\n",
        "    </tr>\n",
        "    <tr>\n",
        "      <th>4</th>\n",
        "      <td> 196.552256</td>\n",
        "      <td> 111.942481</td>\n",
        "      <td> 2660</td>\n",
        "      <td> 2.857256</td>\n",
        "      <td> 0.103899</td>\n",
        "      <td>-102.472853</td>\n",
        "      <td>-0.031807</td>\n",
        "      <td> 2</td>\n",
        "      <td> 7</td>\n",
        "    </tr>\n",
        "  </tbody>\n",
        "</table>\n",
        "</div>"
       ],
       "metadata": {},
       "output_type": "pyout",
       "prompt_number": 9,
       "text": [
        "            x           y  mass      size       ecc      signal        ep  \\\n",
        "0  453.934194   86.551661  1626  2.604283  0.052431 -102.472853 -0.037864   \n",
        "1  520.608638  273.942501  3774  2.462114  0.096123   40.527147  0.106703   \n",
        "2  191.513007   47.924380  3306  2.617476  0.070219   33.527147  0.114615   \n",
        "3  603.713694   92.242960  3622  2.986025  0.039404  -71.472853 -0.042088   \n",
        "4  196.552256  111.942481  2660  2.857256  0.103899 -102.472853 -0.031807   \n",
        "\n",
        "   frame  particle  \n",
        "0      2         0  \n",
        "1      2         2  \n",
        "2      2         5  \n",
        "3      2         6  \n",
        "4      2         7  "
       ]
      }
     ],
     "prompt_number": 9
    },
    {
     "cell_type": "markdown",
     "metadata": {},
     "source": [
      "## Framewise Data Interfaces\n",
      "\n",
      "### Built-in interfaces\n",
      "\n",
      "There are three different interfaces. You can use them interchangeably. They offer different performance advantages.\n",
      "\n",
      "* `PandasHDFStore` -- fastest for a small (~100) number of frames\n",
      "* `PandasHDFStoreBig` -- fastest for a medium or large number of frames\n",
      "* `PandasHDFStoreSingleNode` -- optimizes HDF queries that access multiple frames (advanced)\n",
      "\n",
      "### Writing your own interface\n",
      "\n",
      "Trackpy implements a generic interface that could be used to store and retrieve particle tracking data in any file format. We hope that it can make it easier for researchers who use different file formats to exchange data. Any in-house format could be accessed using the same simple interface demonstrated above.\n",
      "\n",
      "At present, the interface is implemented only for HDF5 files. To extend it to any format, write a class subclassing `trackpy.FramewiseData`. This custom class must implement the methods `put`, `get`, `close`, and `__iter__` and the properties `max_frame` and `t_column`. Refer to the built-in classes in [framewise_data.py](https://github.com/soft-matter/trackpy/blob/master/trackpy/framewise_data.py) for examples to work from."
     ]
    }
   ],
   "metadata": {}
  }
 ]
}